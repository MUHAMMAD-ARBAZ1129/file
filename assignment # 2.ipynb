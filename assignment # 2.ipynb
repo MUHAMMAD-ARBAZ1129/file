{
 "cells": [
  {
   "cell_type": "markdown",
   "metadata": {},
   "source": [
    "QUESTION # 1"
   ]
  },
  {
   "cell_type": "code",
   "execution_count": 12,
   "metadata": {},
   "outputs": [
    {
     "name": "stdout",
     "output_type": "stream",
     "text": [
      "-12\n",
      "no is odd\n"
     ]
    }
   ],
   "source": [
    "i=float(input())\n",
    "if i>0:\n",
    "    print(\"no is positive\")\n",
    "elif(i==0):\n",
    "    print(\"zero\")\n",
    "else:    \n",
    "    print(\"no is odd\")\n",
    "\n"
   ]
  },
  {
   "cell_type": "markdown",
   "metadata": {},
   "source": [
    "QUESTION # 2"
   ]
  },
  {
   "cell_type": "code",
   "execution_count": 22,
   "metadata": {},
   "outputs": [
    {
     "name": "stdout",
     "output_type": "stream",
     "text": [
      "Marks In English:97\n",
      "Marks In Mathematics:78\n",
      "Marks In Physics:88\n",
      "Marks In Chemistry:69\n",
      "Marks In Computer Science/Biology:80\n",
      "Congratulations ! You have secured A grade, and your percentage is  82.4\n"
     ]
    }
   ],
   "source": [
    "a=float(input(\"Marks In English:\"))\n",
    "b=float(input(\"Marks In Mathematics:\"))\n",
    "c=float(input(\"Marks In Physics:\"))\n",
    "d=float(input(\"Marks In Chemistry:\"))\n",
    "e=float(input(\"Marks In Computer Science/Biology:\"))\n",
    "avg=(a+b+c+d+e)*100/500\n",
    "if(avg>=80):\n",
    "    print(\"Congratulations ! You have secured A grade, and your percentage is \", avg)\n",
    "elif(avg>=60 and avg<80):\n",
    "    print(\"Congratulations ! You have secured B grade and your percentage is \", avg )\n",
    "elif (avg>=40 and avg<60):\n",
    "    print(\"Congratulations ! You have secured C grade, and your percentage is \", avg)\n",
    "elif (avg<40):\n",
    "    print( \"You are fail\")\n"
   ]
  },
  {
   "cell_type": "markdown",
   "metadata": {},
   "source": [
    "QUESTION # 3"
   ]
  },
  {
   "cell_type": "code",
   "execution_count": 23,
   "metadata": {},
   "outputs": [
    {
     "name": "stdout",
     "output_type": "stream",
     "text": [
      "Enter the first number: 89\n",
      "Enter the second number: 10\n",
      "Quotient is: 8\n",
      "Remainder is: 9\n"
     ]
    }
   ],
   "source": [
    "a = int(input(\"Enter the first number: \"))\n",
    "b = int(input(\"Enter the second number: \"))\n",
    "quotient = a//b\n",
    "remainder = a%b\n",
    "print(\"Quotient is:\", quotient)\n",
    "print(\"Remainder is:\", remainder)"
   ]
  },
  {
   "cell_type": "markdown",
   "metadata": {},
   "source": [
    "QUESTION # 4"
   ]
  },
  {
   "cell_type": "code",
   "execution_count": 32,
   "metadata": {},
   "outputs": [
    {
     "name": "stdout",
     "output_type": "stream",
     "text": [
      "79\n"
     ]
    }
   ],
   "source": [
    "\n",
    "\n",
    "i=int(input())\n",
    "for i in range(0,51):\n",
    "    if(i%2!=0&i%3!=0):\n",
    "        print(i,\"right entry\")\n",
    "    \n",
    "        \n"
   ]
  },
  {
   "cell_type": "markdown",
   "metadata": {},
   "source": [
    "QUESTION # 5"
   ]
  },
  {
   "cell_type": "code",
   "execution_count": 34,
   "metadata": {},
   "outputs": [
    {
     "name": "stdout",
     "output_type": "stream",
     "text": [
      "Enter value of first variable: 12\n",
      "Enter value of second variable: 3\n",
      "a is: -3  b is: 12\n"
     ]
    }
   ],
   "source": [
    "a=int(input(\"Enter value of first variable: \"))\n",
    "b=int(input(\"Enter value of second variable: \"))\n",
    "a=a+b\n",
    "b=a-b\n",
    "a=b-a\n",
    "print(\"a is:\",a,\" b is:\",b)"
   ]
  },
  {
   "cell_type": "markdown",
   "metadata": {},
   "source": [
    "QUESTION # 6"
   ]
  },
  {
   "cell_type": "code",
   "execution_count": 36,
   "metadata": {},
   "outputs": [
    {
     "name": "stdout",
     "output_type": "stream",
     "text": [
      "Enter first side: 10\n",
      "Enter second side: 10\n",
      "Enter third side: 10\n",
      "Area of the triangle is:  43.30127018922193\n"
     ]
    }
   ],
   "source": [
    "import math\n",
    "a=int(input(\"Enter first side: \"))\n",
    "b=int(input(\"Enter second side: \"))\n",
    "c=int(input(\"Enter third side: \"))\n",
    "s=(a+b+c)/2\n",
    "area=math.sqrt(s*(s-a)*(s-b)*(s-c))\n",
    "print(\"Area of the triangle is: \",area)"
   ]
  },
  {
   "cell_type": "markdown",
   "metadata": {},
   "source": [
    "QUESTION # 7"
   ]
  },
  {
   "cell_type": "code",
   "execution_count": 1,
   "metadata": {},
   "outputs": [
    {
     "name": "stdout",
     "output_type": "stream",
     "text": [
      "Enter the number of elements to be in the list:18\n",
      "Element: 19\n",
      "Element: 20\n",
      "Element: 20\n",
      "Element: 34\n",
      "Element: 56\n",
      "Element: 6\n",
      "Element: 5\n",
      "Element: 7\n",
      "Element: 8\n",
      "Element: 9\n",
      "Element: 1\n",
      "Element: 2\n",
      "Element: 3\n",
      "Element: 4\n",
      "Element: 5\n",
      "Element: 6\n",
      "Element: 7\n",
      "Element: 88\n",
      "Largest even number: 88\n",
      "Largest odd number 19\n"
     ]
    }
   ],
   "source": [
    " \n",
    "n=int(input(\"Enter the number of elements to be in the list:\"))\n",
    "b=[]\n",
    "for i in range(0,n):\n",
    "    a=int(input(\"Element: \"))\n",
    "    b.append(a)\n",
    "c=[]\n",
    "d=[]\n",
    "for i in b:\n",
    "    if(i%2==0):\n",
    "        c.append(i)\n",
    "    else:\n",
    "        d.append(i)\n",
    "c.sort()\n",
    "d.sort()\n",
    "count1=0\n",
    "count2=0\n",
    "for k in c:\n",
    "    count1=count1+1\n",
    "for j in d:\n",
    "    count2=count2+1\n",
    "print(\"Largest even number:\",c[count1-1])\n",
    "print(\"Largest odd number\",d[count2-1])"
   ]
  },
  {
   "cell_type": "markdown",
   "metadata": {},
   "source": [
    "Question # 8"
   ]
  },
  {
   "cell_type": "code",
   "execution_count": 2,
   "metadata": {},
   "outputs": [
    {
     "name": "stdout",
     "output_type": "stream",
     "text": [
      "second largest no is: 20\n"
     ]
    }
   ],
   "source": [
    "list1 =[20,18,6,72,10]\n",
    "list1.sort()\n",
    "print(\"second largest no is:\",list1[-2])"
   ]
  },
  {
   "cell_type": "markdown",
   "metadata": {},
   "source": [
    "Question # 9"
   ]
  },
  {
   "cell_type": "code",
   "execution_count": 7,
   "metadata": {
    "scrolled": true
   },
   "outputs": [
    {
     "name": "stdout",
     "output_type": "stream",
     "text": [
      "[23, 45, 6, 2, 8, 9, 12, 41, 62, 13, 7]\n"
     ]
    }
   ],
   "source": [
    "def union(list1,list2):\n",
    "    final_list=(list1+list2)\n",
    "    return(final_list)\n",
    "list1=[23,45,6,2,8,9]\n",
    "list2=[12,41,62,13,7]\n",
    "print(union(list1,list2))"
   ]
  },
  {
   "cell_type": "code",
   "execution_count": null,
   "metadata": {},
   "outputs": [],
   "source": []
  }
 ],
 "metadata": {
  "kernelspec": {
   "display_name": "Python 3",
   "language": "python",
   "name": "python3"
  },
  "language_info": {
   "codemirror_mode": {
    "name": "ipython",
    "version": 3
   },
   "file_extension": ".py",
   "mimetype": "text/x-python",
   "name": "python",
   "nbconvert_exporter": "python",
   "pygments_lexer": "ipython3",
   "version": "3.7.3"
  }
 },
 "nbformat": 4,
 "nbformat_minor": 2
}
